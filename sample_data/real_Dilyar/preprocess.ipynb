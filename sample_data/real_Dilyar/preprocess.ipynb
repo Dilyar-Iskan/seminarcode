{
 "cells": [
  {
   "cell_type": "code",
   "execution_count": 103,
   "metadata": {},
   "outputs": [],
   "source": [
    "#import pm4py \n",
    "\n",
    "# Read the log\n",
    "##log = pm4py.read_xes('./Hospital_log.xes')"
   ]
  },
  {
   "cell_type": "code",
   "execution_count": 104,
   "metadata": {},
   "outputs": [],
   "source": [
    "# save log as csv \n",
    "#pm4py.convert_to_dataframe(log).to_csv('Hospital_log.csv', index=False)"
   ]
  },
  {
   "cell_type": "code",
   "execution_count": 105,
   "metadata": {},
   "outputs": [],
   "source": [
    "import sys \n",
    "import os\n",
    "from pathlib import Path \n",
    "import pandas as pd\n",
    "import numpy as np\n",
    "import math\n",
    "\n",
    "df = pd.read_csv('FirstAssignmentBPI-DataSet2.csv')"
   ]
  },
  {
   "cell_type": "code",
   "execution_count": 106,
   "metadata": {},
   "outputs": [
    {
     "data": {
      "text/html": [
       "<div>\n",
       "<style scoped>\n",
       "    .dataframe tbody tr th:only-of-type {\n",
       "        vertical-align: middle;\n",
       "    }\n",
       "\n",
       "    .dataframe tbody tr th {\n",
       "        vertical-align: top;\n",
       "    }\n",
       "\n",
       "    .dataframe thead th {\n",
       "        text-align: right;\n",
       "    }\n",
       "</style>\n",
       "<table border=\"1\" class=\"dataframe\">\n",
       "  <thead>\n",
       "    <tr style=\"text-align: right;\">\n",
       "      <th></th>\n",
       "      <th>Case ID</th>\n",
       "      <th>Activity</th>\n",
       "      <th>Resource</th>\n",
       "      <th>Start Timestamp</th>\n",
       "      <th>Complete Timestamp</th>\n",
       "      <th>Variant</th>\n",
       "      <th>Variant index</th>\n",
       "      <th>LoanGoal</th>\n",
       "      <th>ApplicationType</th>\n",
       "      <th>RequestedAmount</th>\n",
       "    </tr>\n",
       "  </thead>\n",
       "  <tbody>\n",
       "    <tr>\n",
       "      <th>0</th>\n",
       "      <td>Application_652823628</td>\n",
       "      <td>Complete application</td>\n",
       "      <td>User_17</td>\n",
       "      <td>2016-01-02 11:45:22.429</td>\n",
       "      <td>2016-01-02 11:45:22.429</td>\n",
       "      <td>Variant 3</td>\n",
       "      <td>3</td>\n",
       "      <td>Existing loan takeover</td>\n",
       "      <td>New credit</td>\n",
       "      <td>20000.0</td>\n",
       "    </tr>\n",
       "    <tr>\n",
       "      <th>1</th>\n",
       "      <td>Application_652823628</td>\n",
       "      <td>Calling client</td>\n",
       "      <td>User_52</td>\n",
       "      <td>2016-01-02 12:30:28.631</td>\n",
       "      <td>2016-01-02 12:30:28.631</td>\n",
       "      <td>Variant 3</td>\n",
       "      <td>3</td>\n",
       "      <td>Existing loan takeover</td>\n",
       "      <td>New credit</td>\n",
       "      <td>20000.0</td>\n",
       "    </tr>\n",
       "    <tr>\n",
       "      <th>2</th>\n",
       "      <td>Application_652823628</td>\n",
       "      <td>Validation</td>\n",
       "      <td>User_117</td>\n",
       "      <td>2016-01-13 14:10:55.145</td>\n",
       "      <td>2016-01-13 14:10:55.145</td>\n",
       "      <td>Variant 3</td>\n",
       "      <td>3</td>\n",
       "      <td>Existing loan takeover</td>\n",
       "      <td>New credit</td>\n",
       "      <td>20000.0</td>\n",
       "    </tr>\n",
       "    <tr>\n",
       "      <th>3</th>\n",
       "      <td>Application_652823628</td>\n",
       "      <td>Request incomplete files</td>\n",
       "      <td>User_115</td>\n",
       "      <td>2016-01-14 10:16:20.972</td>\n",
       "      <td>2016-01-14 10:16:20.972</td>\n",
       "      <td>Variant 3</td>\n",
       "      <td>3</td>\n",
       "      <td>Existing loan takeover</td>\n",
       "      <td>New credit</td>\n",
       "      <td>20000.0</td>\n",
       "    </tr>\n",
       "    <tr>\n",
       "      <th>4</th>\n",
       "      <td>Application_652823628</td>\n",
       "      <td>Validation</td>\n",
       "      <td>User_117</td>\n",
       "      <td>2016-01-14 14:39:51.494</td>\n",
       "      <td>2016-01-14 14:39:51.494</td>\n",
       "      <td>Variant 3</td>\n",
       "      <td>3</td>\n",
       "      <td>Existing loan takeover</td>\n",
       "      <td>New credit</td>\n",
       "      <td>20000.0</td>\n",
       "    </tr>\n",
       "  </tbody>\n",
       "</table>\n",
       "</div>"
      ],
      "text/plain": [
       "                 Case ID                  Activity  Resource  \\\n",
       "0  Application_652823628      Complete application   User_17   \n",
       "1  Application_652823628            Calling client   User_52   \n",
       "2  Application_652823628                Validation  User_117   \n",
       "3  Application_652823628  Request incomplete files  User_115   \n",
       "4  Application_652823628                Validation  User_117   \n",
       "\n",
       "           Start Timestamp       Complete Timestamp    Variant  Variant index  \\\n",
       "0  2016-01-02 11:45:22.429  2016-01-02 11:45:22.429  Variant 3              3   \n",
       "1  2016-01-02 12:30:28.631  2016-01-02 12:30:28.631  Variant 3              3   \n",
       "2  2016-01-13 14:10:55.145  2016-01-13 14:10:55.145  Variant 3              3   \n",
       "3  2016-01-14 10:16:20.972  2016-01-14 10:16:20.972  Variant 3              3   \n",
       "4  2016-01-14 14:39:51.494  2016-01-14 14:39:51.494  Variant 3              3   \n",
       "\n",
       "                 LoanGoal ApplicationType  RequestedAmount  \n",
       "0  Existing loan takeover      New credit          20000.0  \n",
       "1  Existing loan takeover      New credit          20000.0  \n",
       "2  Existing loan takeover      New credit          20000.0  \n",
       "3  Existing loan takeover      New credit          20000.0  \n",
       "4  Existing loan takeover      New credit          20000.0  "
      ]
     },
     "execution_count": 106,
     "metadata": {},
     "output_type": "execute_result"
    }
   ],
   "source": [
    "pd.set_option('display.max_columns', None)\n",
    "df.head()"
   ]
  },
  {
   "cell_type": "code",
   "execution_count": 107,
   "metadata": {},
   "outputs": [
    {
     "name": "stdout",
     "output_type": "stream",
     "text": [
      "/home/botgod/Git/Hub/seminarcode\n"
     ]
    }
   ],
   "source": [
    "p = Path(\"__file__\").resolve().parents[2]\n",
    "sys.path.append(os.path.abspath(str(p)))\n",
    "print(p)"
   ]
  },
  {
   "cell_type": "code",
   "execution_count": 108,
   "metadata": {},
   "outputs": [],
   "source": [
    "#from PyProM.src.data.Eventlog import Eventlog"
   ]
  },
  {
   "cell_type": "code",
   "execution_count": 109,
   "metadata": {},
   "outputs": [],
   "source": [
    "def remove_micro_seconds(x):\n",
    "\tif len(x) > 19:\n",
    "\t\tx = x[:19]\n",
    "\treturn x\n",
    "\n",
    "def to_minute(x):\n",
    "\tif np.isnan(x.seconds):\n",
    "\t\treturn x\n",
    "\t#return int(x.seconds/60)\n",
    "\treturn math.ceil(x.seconds/60)"
   ]
  },
  {
   "cell_type": "code",
   "execution_count": 110,
   "metadata": {},
   "outputs": [],
   "source": [
    "path = './FirstAssignmentBPI-DataSet2.csv'\n",
    "elog = pd.read_csv(path, sep=',')"
   ]
  },
  {
   "cell_type": "code",
   "execution_count": 111,
   "metadata": {},
   "outputs": [],
   "source": [
    "# rename a column\n",
    "elog = elog.rename(columns={'Case ID': 'CASE_ID', 'Activity': 'Activity', 'Resource': 'Resource', 'Start Timestamp': 'StartTimestamp', 'Complete Timestamp': 'CompleteTimestamp', 'RequestedAmount': 'Amount'})"
   ]
  },
  {
   "cell_type": "code",
   "execution_count": 112,
   "metadata": {},
   "outputs": [
    {
     "data": {
      "text/plain": [
       "Index(['CASE_ID', 'Activity', 'Resource', 'StartTimestamp',\n",
       "       'CompleteTimestamp', 'Variant', 'Variant index', 'LoanGoal',\n",
       "       'ApplicationType', 'RequestedAmount'],\n",
       "      dtype='object')"
      ]
     },
     "execution_count": 112,
     "metadata": {},
     "output_type": "execute_result"
    }
   ],
   "source": [
    "elog.columns"
   ]
  },
  {
   "cell_type": "code",
   "execution_count": 113,
   "metadata": {},
   "outputs": [
    {
     "data": {
      "text/html": [
       "<div>\n",
       "<style scoped>\n",
       "    .dataframe tbody tr th:only-of-type {\n",
       "        vertical-align: middle;\n",
       "    }\n",
       "\n",
       "    .dataframe tbody tr th {\n",
       "        vertical-align: top;\n",
       "    }\n",
       "\n",
       "    .dataframe thead th {\n",
       "        text-align: right;\n",
       "    }\n",
       "</style>\n",
       "<table border=\"1\" class=\"dataframe\">\n",
       "  <thead>\n",
       "    <tr style=\"text-align: right;\">\n",
       "      <th></th>\n",
       "      <th>CASE_ID</th>\n",
       "      <th>Activity</th>\n",
       "      <th>Resource</th>\n",
       "      <th>StartTimestamp</th>\n",
       "      <th>CompleteTimestamp</th>\n",
       "      <th>Variant</th>\n",
       "      <th>Variant index</th>\n",
       "      <th>LoanGoal</th>\n",
       "      <th>ApplicationType</th>\n",
       "      <th>RequestedAmount</th>\n",
       "    </tr>\n",
       "  </thead>\n",
       "  <tbody>\n",
       "    <tr>\n",
       "      <th>0</th>\n",
       "      <td>Application_652823628</td>\n",
       "      <td>Complete application</td>\n",
       "      <td>User_17</td>\n",
       "      <td>2016-01-02 11:45:22.429</td>\n",
       "      <td>2016-01-02 11:45:22.429</td>\n",
       "      <td>Variant 3</td>\n",
       "      <td>3</td>\n",
       "      <td>Existing loan takeover</td>\n",
       "      <td>New credit</td>\n",
       "      <td>20000.0</td>\n",
       "    </tr>\n",
       "    <tr>\n",
       "      <th>1</th>\n",
       "      <td>Application_652823628</td>\n",
       "      <td>Calling client</td>\n",
       "      <td>User_52</td>\n",
       "      <td>2016-01-02 12:30:28.631</td>\n",
       "      <td>2016-01-02 12:30:28.631</td>\n",
       "      <td>Variant 3</td>\n",
       "      <td>3</td>\n",
       "      <td>Existing loan takeover</td>\n",
       "      <td>New credit</td>\n",
       "      <td>20000.0</td>\n",
       "    </tr>\n",
       "    <tr>\n",
       "      <th>2</th>\n",
       "      <td>Application_652823628</td>\n",
       "      <td>Validation</td>\n",
       "      <td>User_117</td>\n",
       "      <td>2016-01-13 14:10:55.145</td>\n",
       "      <td>2016-01-13 14:10:55.145</td>\n",
       "      <td>Variant 3</td>\n",
       "      <td>3</td>\n",
       "      <td>Existing loan takeover</td>\n",
       "      <td>New credit</td>\n",
       "      <td>20000.0</td>\n",
       "    </tr>\n",
       "    <tr>\n",
       "      <th>3</th>\n",
       "      <td>Application_652823628</td>\n",
       "      <td>Request incomplete files</td>\n",
       "      <td>User_115</td>\n",
       "      <td>2016-01-14 10:16:20.972</td>\n",
       "      <td>2016-01-14 10:16:20.972</td>\n",
       "      <td>Variant 3</td>\n",
       "      <td>3</td>\n",
       "      <td>Existing loan takeover</td>\n",
       "      <td>New credit</td>\n",
       "      <td>20000.0</td>\n",
       "    </tr>\n",
       "    <tr>\n",
       "      <th>4</th>\n",
       "      <td>Application_652823628</td>\n",
       "      <td>Validation</td>\n",
       "      <td>User_117</td>\n",
       "      <td>2016-01-14 14:39:51.494</td>\n",
       "      <td>2016-01-14 14:39:51.494</td>\n",
       "      <td>Variant 3</td>\n",
       "      <td>3</td>\n",
       "      <td>Existing loan takeover</td>\n",
       "      <td>New credit</td>\n",
       "      <td>20000.0</td>\n",
       "    </tr>\n",
       "  </tbody>\n",
       "</table>\n",
       "</div>"
      ],
      "text/plain": [
       "                 CASE_ID                  Activity  Resource  \\\n",
       "0  Application_652823628      Complete application   User_17   \n",
       "1  Application_652823628            Calling client   User_52   \n",
       "2  Application_652823628                Validation  User_117   \n",
       "3  Application_652823628  Request incomplete files  User_115   \n",
       "4  Application_652823628                Validation  User_117   \n",
       "\n",
       "            StartTimestamp        CompleteTimestamp    Variant  Variant index  \\\n",
       "0  2016-01-02 11:45:22.429  2016-01-02 11:45:22.429  Variant 3              3   \n",
       "1  2016-01-02 12:30:28.631  2016-01-02 12:30:28.631  Variant 3              3   \n",
       "2  2016-01-13 14:10:55.145  2016-01-13 14:10:55.145  Variant 3              3   \n",
       "3  2016-01-14 10:16:20.972  2016-01-14 10:16:20.972  Variant 3              3   \n",
       "4  2016-01-14 14:39:51.494  2016-01-14 14:39:51.494  Variant 3              3   \n",
       "\n",
       "                 LoanGoal ApplicationType  RequestedAmount  \n",
       "0  Existing loan takeover      New credit          20000.0  \n",
       "1  Existing loan takeover      New credit          20000.0  \n",
       "2  Existing loan takeover      New credit          20000.0  \n",
       "3  Existing loan takeover      New credit          20000.0  \n",
       "4  Existing loan takeover      New credit          20000.0  "
      ]
     },
     "execution_count": 113,
     "metadata": {},
     "output_type": "execute_result"
    }
   ],
   "source": [
    "elog.head()"
   ]
  },
  {
   "cell_type": "code",
   "execution_count": 114,
   "metadata": {},
   "outputs": [],
   "source": [
    "elog['CompleteTimestamp'] = elog['CompleteTimestamp'].apply(remove_micro_seconds)"
   ]
  },
  {
   "cell_type": "code",
   "execution_count": 115,
   "metadata": {},
   "outputs": [
    {
     "data": {
      "text/html": [
       "<div>\n",
       "<style scoped>\n",
       "    .dataframe tbody tr th:only-of-type {\n",
       "        vertical-align: middle;\n",
       "    }\n",
       "\n",
       "    .dataframe tbody tr th {\n",
       "        vertical-align: top;\n",
       "    }\n",
       "\n",
       "    .dataframe thead th {\n",
       "        text-align: right;\n",
       "    }\n",
       "</style>\n",
       "<table border=\"1\" class=\"dataframe\">\n",
       "  <thead>\n",
       "    <tr style=\"text-align: right;\">\n",
       "      <th></th>\n",
       "      <th>CASE_ID</th>\n",
       "      <th>Activity</th>\n",
       "      <th>Resource</th>\n",
       "      <th>StartTimestamp</th>\n",
       "      <th>CompleteTimestamp</th>\n",
       "      <th>Variant</th>\n",
       "      <th>Variant index</th>\n",
       "      <th>LoanGoal</th>\n",
       "      <th>ApplicationType</th>\n",
       "      <th>RequestedAmount</th>\n",
       "    </tr>\n",
       "  </thead>\n",
       "  <tbody>\n",
       "    <tr>\n",
       "      <th>0</th>\n",
       "      <td>Application_652823628</td>\n",
       "      <td>Complete application</td>\n",
       "      <td>User_17</td>\n",
       "      <td>2016-01-02 11:45:22.429</td>\n",
       "      <td>2016-01-02 11:45:22</td>\n",
       "      <td>Variant 3</td>\n",
       "      <td>3</td>\n",
       "      <td>Existing loan takeover</td>\n",
       "      <td>New credit</td>\n",
       "      <td>20000.0</td>\n",
       "    </tr>\n",
       "    <tr>\n",
       "      <th>1</th>\n",
       "      <td>Application_652823628</td>\n",
       "      <td>Calling client</td>\n",
       "      <td>User_52</td>\n",
       "      <td>2016-01-02 12:30:28.631</td>\n",
       "      <td>2016-01-02 12:30:28</td>\n",
       "      <td>Variant 3</td>\n",
       "      <td>3</td>\n",
       "      <td>Existing loan takeover</td>\n",
       "      <td>New credit</td>\n",
       "      <td>20000.0</td>\n",
       "    </tr>\n",
       "    <tr>\n",
       "      <th>2</th>\n",
       "      <td>Application_652823628</td>\n",
       "      <td>Validation</td>\n",
       "      <td>User_117</td>\n",
       "      <td>2016-01-13 14:10:55.145</td>\n",
       "      <td>2016-01-13 14:10:55</td>\n",
       "      <td>Variant 3</td>\n",
       "      <td>3</td>\n",
       "      <td>Existing loan takeover</td>\n",
       "      <td>New credit</td>\n",
       "      <td>20000.0</td>\n",
       "    </tr>\n",
       "    <tr>\n",
       "      <th>3</th>\n",
       "      <td>Application_652823628</td>\n",
       "      <td>Request incomplete files</td>\n",
       "      <td>User_115</td>\n",
       "      <td>2016-01-14 10:16:20.972</td>\n",
       "      <td>2016-01-14 10:16:20</td>\n",
       "      <td>Variant 3</td>\n",
       "      <td>3</td>\n",
       "      <td>Existing loan takeover</td>\n",
       "      <td>New credit</td>\n",
       "      <td>20000.0</td>\n",
       "    </tr>\n",
       "    <tr>\n",
       "      <th>4</th>\n",
       "      <td>Application_652823628</td>\n",
       "      <td>Validation</td>\n",
       "      <td>User_117</td>\n",
       "      <td>2016-01-14 14:39:51.494</td>\n",
       "      <td>2016-01-14 14:39:51</td>\n",
       "      <td>Variant 3</td>\n",
       "      <td>3</td>\n",
       "      <td>Existing loan takeover</td>\n",
       "      <td>New credit</td>\n",
       "      <td>20000.0</td>\n",
       "    </tr>\n",
       "  </tbody>\n",
       "</table>\n",
       "</div>"
      ],
      "text/plain": [
       "                 CASE_ID                  Activity  Resource  \\\n",
       "0  Application_652823628      Complete application   User_17   \n",
       "1  Application_652823628            Calling client   User_52   \n",
       "2  Application_652823628                Validation  User_117   \n",
       "3  Application_652823628  Request incomplete files  User_115   \n",
       "4  Application_652823628                Validation  User_117   \n",
       "\n",
       "            StartTimestamp    CompleteTimestamp    Variant  Variant index  \\\n",
       "0  2016-01-02 11:45:22.429  2016-01-02 11:45:22  Variant 3              3   \n",
       "1  2016-01-02 12:30:28.631  2016-01-02 12:30:28  Variant 3              3   \n",
       "2  2016-01-13 14:10:55.145  2016-01-13 14:10:55  Variant 3              3   \n",
       "3  2016-01-14 10:16:20.972  2016-01-14 10:16:20  Variant 3              3   \n",
       "4  2016-01-14 14:39:51.494  2016-01-14 14:39:51  Variant 3              3   \n",
       "\n",
       "                 LoanGoal ApplicationType  RequestedAmount  \n",
       "0  Existing loan takeover      New credit          20000.0  \n",
       "1  Existing loan takeover      New credit          20000.0  \n",
       "2  Existing loan takeover      New credit          20000.0  \n",
       "3  Existing loan takeover      New credit          20000.0  \n",
       "4  Existing loan takeover      New credit          20000.0  "
      ]
     },
     "execution_count": 115,
     "metadata": {},
     "output_type": "execute_result"
    }
   ],
   "source": [
    "elog.head()"
   ]
  },
  {
   "cell_type": "code",
   "execution_count": 116,
   "metadata": {},
   "outputs": [],
   "source": [
    "elog['StartTimestamp'] = elog['StartTimestamp'].apply(remove_micro_seconds)"
   ]
  },
  {
   "cell_type": "code",
   "execution_count": 117,
   "metadata": {},
   "outputs": [
    {
     "data": {
      "text/html": [
       "<div>\n",
       "<style scoped>\n",
       "    .dataframe tbody tr th:only-of-type {\n",
       "        vertical-align: middle;\n",
       "    }\n",
       "\n",
       "    .dataframe tbody tr th {\n",
       "        vertical-align: top;\n",
       "    }\n",
       "\n",
       "    .dataframe thead th {\n",
       "        text-align: right;\n",
       "    }\n",
       "</style>\n",
       "<table border=\"1\" class=\"dataframe\">\n",
       "  <thead>\n",
       "    <tr style=\"text-align: right;\">\n",
       "      <th></th>\n",
       "      <th>CASE_ID</th>\n",
       "      <th>Activity</th>\n",
       "      <th>Resource</th>\n",
       "      <th>StartTimestamp</th>\n",
       "      <th>CompleteTimestamp</th>\n",
       "      <th>Variant</th>\n",
       "      <th>Variant index</th>\n",
       "      <th>LoanGoal</th>\n",
       "      <th>ApplicationType</th>\n",
       "      <th>RequestedAmount</th>\n",
       "    </tr>\n",
       "  </thead>\n",
       "  <tbody>\n",
       "    <tr>\n",
       "      <th>0</th>\n",
       "      <td>Application_652823628</td>\n",
       "      <td>Complete application</td>\n",
       "      <td>User_17</td>\n",
       "      <td>2016-01-02 11:45:22</td>\n",
       "      <td>2016-01-02 11:45:22</td>\n",
       "      <td>Variant 3</td>\n",
       "      <td>3</td>\n",
       "      <td>Existing loan takeover</td>\n",
       "      <td>New credit</td>\n",
       "      <td>20000.0</td>\n",
       "    </tr>\n",
       "    <tr>\n",
       "      <th>1</th>\n",
       "      <td>Application_652823628</td>\n",
       "      <td>Calling client</td>\n",
       "      <td>User_52</td>\n",
       "      <td>2016-01-02 12:30:28</td>\n",
       "      <td>2016-01-02 12:30:28</td>\n",
       "      <td>Variant 3</td>\n",
       "      <td>3</td>\n",
       "      <td>Existing loan takeover</td>\n",
       "      <td>New credit</td>\n",
       "      <td>20000.0</td>\n",
       "    </tr>\n",
       "    <tr>\n",
       "      <th>2</th>\n",
       "      <td>Application_652823628</td>\n",
       "      <td>Validation</td>\n",
       "      <td>User_117</td>\n",
       "      <td>2016-01-13 14:10:55</td>\n",
       "      <td>2016-01-13 14:10:55</td>\n",
       "      <td>Variant 3</td>\n",
       "      <td>3</td>\n",
       "      <td>Existing loan takeover</td>\n",
       "      <td>New credit</td>\n",
       "      <td>20000.0</td>\n",
       "    </tr>\n",
       "    <tr>\n",
       "      <th>3</th>\n",
       "      <td>Application_652823628</td>\n",
       "      <td>Request incomplete files</td>\n",
       "      <td>User_115</td>\n",
       "      <td>2016-01-14 10:16:20</td>\n",
       "      <td>2016-01-14 10:16:20</td>\n",
       "      <td>Variant 3</td>\n",
       "      <td>3</td>\n",
       "      <td>Existing loan takeover</td>\n",
       "      <td>New credit</td>\n",
       "      <td>20000.0</td>\n",
       "    </tr>\n",
       "    <tr>\n",
       "      <th>4</th>\n",
       "      <td>Application_652823628</td>\n",
       "      <td>Validation</td>\n",
       "      <td>User_117</td>\n",
       "      <td>2016-01-14 14:39:51</td>\n",
       "      <td>2016-01-14 14:39:51</td>\n",
       "      <td>Variant 3</td>\n",
       "      <td>3</td>\n",
       "      <td>Existing loan takeover</td>\n",
       "      <td>New credit</td>\n",
       "      <td>20000.0</td>\n",
       "    </tr>\n",
       "  </tbody>\n",
       "</table>\n",
       "</div>"
      ],
      "text/plain": [
       "                 CASE_ID                  Activity  Resource  \\\n",
       "0  Application_652823628      Complete application   User_17   \n",
       "1  Application_652823628            Calling client   User_52   \n",
       "2  Application_652823628                Validation  User_117   \n",
       "3  Application_652823628  Request incomplete files  User_115   \n",
       "4  Application_652823628                Validation  User_117   \n",
       "\n",
       "        StartTimestamp    CompleteTimestamp    Variant  Variant index  \\\n",
       "0  2016-01-02 11:45:22  2016-01-02 11:45:22  Variant 3              3   \n",
       "1  2016-01-02 12:30:28  2016-01-02 12:30:28  Variant 3              3   \n",
       "2  2016-01-13 14:10:55  2016-01-13 14:10:55  Variant 3              3   \n",
       "3  2016-01-14 10:16:20  2016-01-14 10:16:20  Variant 3              3   \n",
       "4  2016-01-14 14:39:51  2016-01-14 14:39:51  Variant 3              3   \n",
       "\n",
       "                 LoanGoal ApplicationType  RequestedAmount  \n",
       "0  Existing loan takeover      New credit          20000.0  \n",
       "1  Existing loan takeover      New credit          20000.0  \n",
       "2  Existing loan takeover      New credit          20000.0  \n",
       "3  Existing loan takeover      New credit          20000.0  \n",
       "4  Existing loan takeover      New credit          20000.0  "
      ]
     },
     "execution_count": 117,
     "metadata": {},
     "output_type": "execute_result"
    }
   ],
   "source": [
    "elog.head()"
   ]
  },
  {
   "cell_type": "code",
   "execution_count": 118,
   "metadata": {},
   "outputs": [],
   "source": [
    "elog['CompleteTimestamp'].dtype\n",
    "# change type of column dt.date \n",
    "elog['CompleteTimestamp'] = pd.to_datetime(elog['CompleteTimestamp'], format='%Y-%m-%d %H:%M:%S')\n",
    "elog['StartTimestamp'] = pd.to_datetime(elog['StartTimestamp'], format='%Y-%m-%d %H:%M:%S')\n"
   ]
  },
  {
   "cell_type": "code",
   "execution_count": 119,
   "metadata": {},
   "outputs": [],
   "source": [
    "elog['Duration'] = (elog['CompleteTimestamp'] - elog['StartTimestamp']).apply(to_minute)\n"
   ]
  },
  {
   "cell_type": "code",
   "execution_count": null,
   "metadata": {},
   "outputs": [],
   "source": []
  },
  {
   "cell_type": "code",
   "execution_count": 120,
   "metadata": {},
   "outputs": [
    {
     "name": "stderr",
     "output_type": "stream",
     "text": [
      "/tmp/ipykernel_24998/2645534060.py:6: UserWarning: \n",
      "\n",
      "`distplot` is a deprecated function and will be removed in seaborn v0.14.0.\n",
      "\n",
      "Please adapt your code to use either `displot` (a figure-level function with\n",
      "similar flexibility) or `histplot` (an axes-level function for histograms).\n",
      "\n",
      "For a guide to updating your code to use the new functions, please see\n",
      "https://gist.github.com/mwaskom/de44147ed2974457ad6372750bbe5751\n",
      "\n",
      "  sns.distplot(elog['Duration'], bins=100, kde=False)\n"
     ]
    },
    {
     "data": {
      "image/png": "[encoded data removed]",
      "text/plain": [
       "<Figure size 720x360 with 1 Axes>"
      ]
     },
     "metadata": {
      "needs_background": "light"
     },
     "output_type": "display_data"
    }
   ],
   "source": [
    "# plot the distribution of duration\n",
    "import matplotlib.pyplot as plt\n",
    "import seaborn as sns\n",
    "\n",
    "plt.figure(figsize=(10, 5))\n",
    "sns.distplot(elog['Duration'], bins=100, kde=False)\n",
    "plt.show()\n"
   ]
  },
  {
   "cell_type": "code",
   "execution_count": 121,
   "metadata": {},
   "outputs": [],
   "source": [
    "# drop rows with missing values\n",
    "elog.dropna(subset=['Resource', 'StartTimestamp', 'CompleteTimestamp'],inplace=True)"
   ]
  },
  {
   "cell_type": "code",
   "execution_count": 122,
   "metadata": {},
   "outputs": [
    {
     "name": "stderr",
     "output_type": "stream",
     "text": [
      "/tmp/ipykernel_24998/1379670181.py:2: UserWarning: \n",
      "\n",
      "`distplot` is a deprecated function and will be removed in seaborn v0.14.0.\n",
      "\n",
      "Please adapt your code to use either `displot` (a figure-level function with\n",
      "similar flexibility) or `histplot` (an axes-level function for histograms).\n",
      "\n",
      "For a guide to updating your code to use the new functions, please see\n",
      "https://gist.github.com/mwaskom/de44147ed2974457ad6372750bbe5751\n",
      "\n",
      "  sns.distplot(elog['Duration'], bins=100, kde=False)\n"
     ]
    },
    {
     "data": {
      "image/png": "[encoded data removed]",
      "text/plain": [
       "<Figure size 720x360 with 1 Axes>"
      ]
     },
     "metadata": {
      "needs_background": "light"
     },
     "output_type": "display_data"
    }
   ],
   "source": [
    "\n",
    "plt.figure(figsize=(10, 5))\n",
    "sns.distplot(elog['Duration'], bins=100, kde=False)\n",
    "plt.show()"
   ]
  },
  {
   "cell_type": "code",
   "execution_count": 123,
   "metadata": {},
   "outputs": [
    {
     "name": "stderr",
     "output_type": "stream",
     "text": [
      "/home/botgod/anaconda3/envs/apm/lib/python3.10/site-packages/pandas/core/arraylike.py:397: RuntimeWarning: divide by zero encountered in log\n",
      "  result = getattr(ufunc, method)(*inputs, **kwargs)\n"
     ]
    }
   ],
   "source": [
    "# make the distribution of duration more normal\n",
    "elog['Duration_log_transformation'] = np.log(elog['Duration'])"
   ]
  },
  {
   "cell_type": "code",
   "execution_count": 124,
   "metadata": {},
   "outputs": [],
   "source": [
    "# remove rows with duration less than 0\n",
    "elog = elog.loc[elog['Duration'] >= 0]"
   ]
  },
  {
   "cell_type": "code",
   "execution_count": 125,
   "metadata": {},
   "outputs": [
    {
     "data": {
      "text/html": [
       "<div>\n",
       "<style scoped>\n",
       "    .dataframe tbody tr th:only-of-type {\n",
       "        vertical-align: middle;\n",
       "    }\n",
       "\n",
       "    .dataframe tbody tr th {\n",
       "        vertical-align: top;\n",
       "    }\n",
       "\n",
       "    .dataframe thead th {\n",
       "        text-align: right;\n",
       "    }\n",
       "</style>\n",
       "<table border=\"1\" class=\"dataframe\">\n",
       "  <thead>\n",
       "    <tr style=\"text-align: right;\">\n",
       "      <th></th>\n",
       "      <th>CASE_ID</th>\n",
       "      <th>Activity</th>\n",
       "      <th>Resource</th>\n",
       "      <th>StartTimestamp</th>\n",
       "      <th>CompleteTimestamp</th>\n",
       "      <th>Variant</th>\n",
       "      <th>Variant index</th>\n",
       "      <th>LoanGoal</th>\n",
       "      <th>ApplicationType</th>\n",
       "      <th>RequestedAmount</th>\n",
       "      <th>Duration</th>\n",
       "      <th>Duration_log_transformation</th>\n",
       "    </tr>\n",
       "  </thead>\n",
       "  <tbody>\n",
       "    <tr>\n",
       "      <th>0</th>\n",
       "      <td>Application_652823628</td>\n",
       "      <td>Complete application</td>\n",
       "      <td>User_17</td>\n",
       "      <td>2016-01-02 11:45:22</td>\n",
       "      <td>2016-01-02 11:45:22</td>\n",
       "      <td>Variant 3</td>\n",
       "      <td>3</td>\n",
       "      <td>Existing loan takeover</td>\n",
       "      <td>New credit</td>\n",
       "      <td>20000.0</td>\n",
       "      <td>0</td>\n",
       "      <td>-inf</td>\n",
       "    </tr>\n",
       "    <tr>\n",
       "      <th>1</th>\n",
       "      <td>Application_652823628</td>\n",
       "      <td>Calling client</td>\n",
       "      <td>User_52</td>\n",
       "      <td>2016-01-02 12:30:28</td>\n",
       "      <td>2016-01-02 12:30:28</td>\n",
       "      <td>Variant 3</td>\n",
       "      <td>3</td>\n",
       "      <td>Existing loan takeover</td>\n",
       "      <td>New credit</td>\n",
       "      <td>20000.0</td>\n",
       "      <td>0</td>\n",
       "      <td>-inf</td>\n",
       "    </tr>\n",
       "    <tr>\n",
       "      <th>2</th>\n",
       "      <td>Application_652823628</td>\n",
       "      <td>Validation</td>\n",
       "      <td>User_117</td>\n",
       "      <td>2016-01-13 14:10:55</td>\n",
       "      <td>2016-01-13 14:10:55</td>\n",
       "      <td>Variant 3</td>\n",
       "      <td>3</td>\n",
       "      <td>Existing loan takeover</td>\n",
       "      <td>New credit</td>\n",
       "      <td>20000.0</td>\n",
       "      <td>0</td>\n",
       "      <td>-inf</td>\n",
       "    </tr>\n",
       "    <tr>\n",
       "      <th>3</th>\n",
       "      <td>Application_652823628</td>\n",
       "      <td>Request incomplete files</td>\n",
       "      <td>User_115</td>\n",
       "      <td>2016-01-14 10:16:20</td>\n",
       "      <td>2016-01-14 10:16:20</td>\n",
       "      <td>Variant 3</td>\n",
       "      <td>3</td>\n",
       "      <td>Existing loan takeover</td>\n",
       "      <td>New credit</td>\n",
       "      <td>20000.0</td>\n",
       "      <td>0</td>\n",
       "      <td>-inf</td>\n",
       "    </tr>\n",
       "    <tr>\n",
       "      <th>4</th>\n",
       "      <td>Application_652823628</td>\n",
       "      <td>Validation</td>\n",
       "      <td>User_117</td>\n",
       "      <td>2016-01-14 14:39:51</td>\n",
       "      <td>2016-01-14 14:39:51</td>\n",
       "      <td>Variant 3</td>\n",
       "      <td>3</td>\n",
       "      <td>Existing loan takeover</td>\n",
       "      <td>New credit</td>\n",
       "      <td>20000.0</td>\n",
       "      <td>0</td>\n",
       "      <td>-inf</td>\n",
       "    </tr>\n",
       "  </tbody>\n",
       "</table>\n",
       "</div>"
      ],
      "text/plain": [
       "                 CASE_ID                  Activity  Resource  \\\n",
       "0  Application_652823628      Complete application   User_17   \n",
       "1  Application_652823628            Calling client   User_52   \n",
       "2  Application_652823628                Validation  User_117   \n",
       "3  Application_652823628  Request incomplete files  User_115   \n",
       "4  Application_652823628                Validation  User_117   \n",
       "\n",
       "       StartTimestamp   CompleteTimestamp    Variant  Variant index  \\\n",
       "0 2016-01-02 11:45:22 2016-01-02 11:45:22  Variant 3              3   \n",
       "1 2016-01-02 12:30:28 2016-01-02 12:30:28  Variant 3              3   \n",
       "2 2016-01-13 14:10:55 2016-01-13 14:10:55  Variant 3              3   \n",
       "3 2016-01-14 10:16:20 2016-01-14 10:16:20  Variant 3              3   \n",
       "4 2016-01-14 14:39:51 2016-01-14 14:39:51  Variant 3              3   \n",
       "\n",
       "                 LoanGoal ApplicationType  RequestedAmount  Duration  \\\n",
       "0  Existing loan takeover      New credit          20000.0         0   \n",
       "1  Existing loan takeover      New credit          20000.0         0   \n",
       "2  Existing loan takeover      New credit          20000.0         0   \n",
       "3  Existing loan takeover      New credit          20000.0         0   \n",
       "4  Existing loan takeover      New credit          20000.0         0   \n",
       "\n",
       "   Duration_log_transformation  \n",
       "0                         -inf  \n",
       "1                         -inf  \n",
       "2                         -inf  \n",
       "3                         -inf  \n",
       "4                         -inf  "
      ]
     },
     "execution_count": 125,
     "metadata": {},
     "output_type": "execute_result"
    }
   ],
   "source": [
    "elog.head()"
   ]
  },
  {
   "cell_type": "code",
   "execution_count": 126,
   "metadata": {},
   "outputs": [],
   "source": [
    "# round up the duration to the nearest integer\n",
    "#def round_up(x):\n",
    "#    return int(x) + 1\n",
    "    \n",
    "#elog['Duration'] = elog['Duration'].apply(round_up)"
   ]
  },
  {
   "cell_type": "code",
   "execution_count": 127,
   "metadata": {},
   "outputs": [
    {
     "data": {
      "text/plain": [
       "128227"
      ]
     },
     "execution_count": 127,
     "metadata": {},
     "output_type": "execute_result"
    }
   ],
   "source": [
    "len(elog)"
   ]
  },
  {
   "cell_type": "code",
   "execution_count": 128,
   "metadata": {},
   "outputs": [
    {
     "data": {
      "text/html": [
       "<div>\n",
       "<style scoped>\n",
       "    .dataframe tbody tr th:only-of-type {\n",
       "        vertical-align: middle;\n",
       "    }\n",
       "\n",
       "    .dataframe tbody tr th {\n",
       "        vertical-align: top;\n",
       "    }\n",
       "\n",
       "    .dataframe thead th {\n",
       "        text-align: right;\n",
       "    }\n",
       "</style>\n",
       "<table border=\"1\" class=\"dataframe\">\n",
       "  <thead>\n",
       "    <tr style=\"text-align: right;\">\n",
       "      <th></th>\n",
       "      <th>CASE_ID</th>\n",
       "      <th>Activity</th>\n",
       "      <th>Resource</th>\n",
       "      <th>StartTimestamp</th>\n",
       "      <th>CompleteTimestamp</th>\n",
       "      <th>Variant</th>\n",
       "      <th>Variant index</th>\n",
       "      <th>LoanGoal</th>\n",
       "      <th>ApplicationType</th>\n",
       "      <th>RequestedAmount</th>\n",
       "      <th>Duration</th>\n",
       "      <th>Duration_log_transformation</th>\n",
       "    </tr>\n",
       "  </thead>\n",
       "  <tbody>\n",
       "    <tr>\n",
       "      <th>0</th>\n",
       "      <td>Application_652823628</td>\n",
       "      <td>Complete application</td>\n",
       "      <td>User_17</td>\n",
       "      <td>2016-01-02 11:45:22</td>\n",
       "      <td>2016-01-02 11:45:22</td>\n",
       "      <td>Variant 3</td>\n",
       "      <td>3</td>\n",
       "      <td>Existing loan takeover</td>\n",
       "      <td>New credit</td>\n",
       "      <td>20000.0</td>\n",
       "      <td>0</td>\n",
       "      <td>-inf</td>\n",
       "    </tr>\n",
       "    <tr>\n",
       "      <th>1</th>\n",
       "      <td>Application_652823628</td>\n",
       "      <td>Calling client</td>\n",
       "      <td>User_52</td>\n",
       "      <td>2016-01-02 12:30:28</td>\n",
       "      <td>2016-01-02 12:30:28</td>\n",
       "      <td>Variant 3</td>\n",
       "      <td>3</td>\n",
       "      <td>Existing loan takeover</td>\n",
       "      <td>New credit</td>\n",
       "      <td>20000.0</td>\n",
       "      <td>0</td>\n",
       "      <td>-inf</td>\n",
       "    </tr>\n",
       "    <tr>\n",
       "      <th>2</th>\n",
       "      <td>Application_652823628</td>\n",
       "      <td>Validation</td>\n",
       "      <td>User_117</td>\n",
       "      <td>2016-01-13 14:10:55</td>\n",
       "      <td>2016-01-13 14:10:55</td>\n",
       "      <td>Variant 3</td>\n",
       "      <td>3</td>\n",
       "      <td>Existing loan takeover</td>\n",
       "      <td>New credit</td>\n",
       "      <td>20000.0</td>\n",
       "      <td>0</td>\n",
       "      <td>-inf</td>\n",
       "    </tr>\n",
       "    <tr>\n",
       "      <th>3</th>\n",
       "      <td>Application_652823628</td>\n",
       "      <td>Request incomplete files</td>\n",
       "      <td>User_115</td>\n",
       "      <td>2016-01-14 10:16:20</td>\n",
       "      <td>2016-01-14 10:16:20</td>\n",
       "      <td>Variant 3</td>\n",
       "      <td>3</td>\n",
       "      <td>Existing loan takeover</td>\n",
       "      <td>New credit</td>\n",
       "      <td>20000.0</td>\n",
       "      <td>0</td>\n",
       "      <td>-inf</td>\n",
       "    </tr>\n",
       "    <tr>\n",
       "      <th>4</th>\n",
       "      <td>Application_652823628</td>\n",
       "      <td>Validation</td>\n",
       "      <td>User_117</td>\n",
       "      <td>2016-01-14 14:39:51</td>\n",
       "      <td>2016-01-14 14:39:51</td>\n",
       "      <td>Variant 3</td>\n",
       "      <td>3</td>\n",
       "      <td>Existing loan takeover</td>\n",
       "      <td>New credit</td>\n",
       "      <td>20000.0</td>\n",
       "      <td>0</td>\n",
       "      <td>-inf</td>\n",
       "    </tr>\n",
       "  </tbody>\n",
       "</table>\n",
       "</div>"
      ],
      "text/plain": [
       "                 CASE_ID                  Activity  Resource  \\\n",
       "0  Application_652823628      Complete application   User_17   \n",
       "1  Application_652823628            Calling client   User_52   \n",
       "2  Application_652823628                Validation  User_117   \n",
       "3  Application_652823628  Request incomplete files  User_115   \n",
       "4  Application_652823628                Validation  User_117   \n",
       "\n",
       "       StartTimestamp   CompleteTimestamp    Variant  Variant index  \\\n",
       "0 2016-01-02 11:45:22 2016-01-02 11:45:22  Variant 3              3   \n",
       "1 2016-01-02 12:30:28 2016-01-02 12:30:28  Variant 3              3   \n",
       "2 2016-01-13 14:10:55 2016-01-13 14:10:55  Variant 3              3   \n",
       "3 2016-01-14 10:16:20 2016-01-14 10:16:20  Variant 3              3   \n",
       "4 2016-01-14 14:39:51 2016-01-14 14:39:51  Variant 3              3   \n",
       "\n",
       "                 LoanGoal ApplicationType  RequestedAmount  Duration  \\\n",
       "0  Existing loan takeover      New credit          20000.0         0   \n",
       "1  Existing loan takeover      New credit          20000.0         0   \n",
       "2  Existing loan takeover      New credit          20000.0         0   \n",
       "3  Existing loan takeover      New credit          20000.0         0   \n",
       "4  Existing loan takeover      New credit          20000.0         0   \n",
       "\n",
       "   Duration_log_transformation  \n",
       "0                         -inf  \n",
       "1                         -inf  \n",
       "2                         -inf  \n",
       "3                         -inf  \n",
       "4                         -inf  "
      ]
     },
     "execution_count": 128,
     "metadata": {},
     "output_type": "execute_result"
    }
   ],
   "source": [
    "elog.head()"
   ]
  },
  {
   "cell_type": "code",
   "execution_count": 129,
   "metadata": {},
   "outputs": [
    {
     "name": "stderr",
     "output_type": "stream",
     "text": [
      "/home/botgod/anaconda3/envs/apm/lib/python3.10/site-packages/numpy/lib/function_base.py:4009: RuntimeWarning: invalid value encountered in subtract\n",
      "  diff_b_a = subtract(b, a)\n"
     ]
    },
    {
     "data": {
      "image/png": "[encoded data removed]",
      "text/plain": [
       "<Figure size 720x360 with 1 Axes>"
      ]
     },
     "metadata": {
      "needs_background": "light"
     },
     "output_type": "display_data"
    }
   ],
   "source": [
    "\n",
    "# plot the distribution of duration_log_transformation\n",
    "plt.figure(figsize=(10, 5))\n",
    "sns.pointplot(y=elog['Duration_log_transformation'], x=elog['Duration'], data=elog, join=False)\n",
    "plt.show()"
   ]
  },
  {
   "cell_type": "code",
   "execution_count": 130,
   "metadata": {},
   "outputs": [
    {
     "data": {
      "text/plain": [
       "128227"
      ]
     },
     "execution_count": 130,
     "metadata": {},
     "output_type": "execute_result"
    }
   ],
   "source": [
    "len(elog)"
   ]
  },
  {
   "cell_type": "code",
   "execution_count": 131,
   "metadata": {},
   "outputs": [],
   "source": [
    "log = pd.read_csv('../../prediction/training_data.csv', sep=',')"
   ]
  },
  {
   "cell_type": "code",
   "execution_count": 132,
   "metadata": {},
   "outputs": [
    {
     "data": {
      "text/plain": [
       "Index(['Unnamed: 0', 'id', 'state', 'resource', 'start_timestamp',\n",
       "       'complete_timestamp', 'dur', 'next_state', 'next_time', 'next_dur',\n",
       "       'next_resource', 'elapsed_time', 'total_time', 'remaining_time',\n",
       "       'history', 'res_history', 'total_q', 'queue_W-Afhandelen leads-START',\n",
       "       'queue_W-Beoordelen fraude-START', 'queue_W-Completeren aanvraag-START',\n",
       "       'queue_W-Nabellen incomplete dossiers-START',\n",
       "       'queue_W-Nabellen offertes-START', 'queue_W-Valideren aanvraag-START'],\n",
       "      dtype='object')"
      ]
     },
     "execution_count": 132,
     "metadata": {},
     "output_type": "execute_result"
    }
   ],
   "source": [
    "log.columns"
   ]
  },
  {
   "cell_type": "code",
   "execution_count": 133,
   "metadata": {},
   "outputs": [
    {
     "name": "stderr",
     "output_type": "stream",
     "text": [
      "/tmp/ipykernel_24998/1043983960.py:3: UserWarning: \n",
      "\n",
      "`distplot` is a deprecated function and will be removed in seaborn v0.14.0.\n",
      "\n",
      "Please adapt your code to use either `displot` (a figure-level function with\n",
      "similar flexibility) or `histplot` (an axes-level function for histograms).\n",
      "\n",
      "For a guide to updating your code to use the new functions, please see\n",
      "https://gist.github.com/mwaskom/de44147ed2974457ad6372750bbe5751\n",
      "\n",
      "  sns.distplot(log['dur'], bins=200, kde=False)\n"
     ]
    },
    {
     "data": {
      "image/png": "[encoded data removed]",
      "text/plain": [
       "<Figure size 720x360 with 1 Axes>"
      ]
     },
     "metadata": {
      "needs_background": "light"
     },
     "output_type": "display_data"
    }
   ],
   "source": [
    "# check the distribution of duration\n",
    "plt.figure(figsize=(10, 5))\n",
    "sns.distplot(log['dur'], bins=200, kde=False)\n",
    "plt.show()"
   ]
  },
  {
   "cell_type": "code",
   "execution_count": null,
   "metadata": {},
   "outputs": [],
   "source": []
  }
 ],
 "metadata": {
  "kernelspec": {
   "display_name": "apm",
   "language": "python",
   "name": "python3"
  },
  "language_info": {
   "codemirror_mode": {
    "name": "ipython",
    "version": 3
   },
   "file_extension": ".py",
   "mimetype": "text/x-python",
   "name": "python",
   "nbconvert_exporter": "python",
   "pygments_lexer": "ipython3",
   "version": "3.10.4"
  },
  "orig_nbformat": 4,
  "vscode": {
   "interpreter": {
    "hash": "59543f7dfec572555fd8ba8b8192e4c376dd993d69743ef761d7e2c4e79d3531"
   }
  }
 },
 "nbformat": 4,
 "nbformat_minor": 2
}
