{
 "cells": [
  {
   "attachments": {},
   "cell_type": "markdown",
   "metadata": {},
   "source": [
    "# divergences from the paper: \n",
    "\n",
    "## Point 1: \n",
    "In Evaluation of real-life event log, a claim has been made that\n",
    "\n",
    "``` \n",
    "We build an event log from the dataset by filtering it to\n",
    "include the events before 10/3/2012 and use it as an input\n",
    "of phase 1 in our method.\n",
    "```\n",
    "\n",
    "However, the dataset `./prediction/training_data.csv` is not filtered and it includes the dates after 10/3/2012 as well."
   ]
  },
  {
   "attachments": {},
   "cell_type": "markdown",
   "metadata": {},
   "source": [
    "## Point 2: \n",
    "In Evaluation of real-life event log, a claim has been made that\n",
    "\n",
    "```\n",
    " The instances and resources, who\n",
    "appear on 10/3/2012 in the dataset, are extracted from the\n",
    "dataset, and they become components of the event stream\n",
    "which we use in phase 2.\n",
    "``` \n",
    "However, the dataset `./sample_data/real/modi_BPI_2012_2012-03-10.csv` is not filtered again and it includes data from earlier dates as well."
   ]
  },
  {
   "attachments": {},
   "cell_type": "markdown",
   "metadata": {},
   "source": [
    "##  Point 3: \n",
    "\n",
    "In Evaluation of real-life event log, a claim has been made that\n",
    "\n",
    "```\n",
    "From the prediction model and the event\n",
    "stream, we simulate the resource allocation on 10/3/2012.\n",
    "Table II shows the results from both baseline approach and\n",
    "our proposed method. The total weighted completion time of\n",
    "baseline approach (i.e., 1,479) is 42 percent higher than the one\n",
    "of our suggested method (i.e., 1038). \n",
    "``` \n",
    "\n",
    "| 2012-03-10  |     Baseline      |    Suggested       |\n",
    "| :---        |    :----:   |          ---: |\n",
    "|    Dilyar Iskan        | 1598 (8.99 sec)       | 1540 (241.5)   |\n",
    "|   Paper                | 1479     (7.6)   | 1038 (115.6)     |\n",
    "|  results I from the code of the paper    | 1590      (28.16 )   | 1598,  (316.60  )     |\n",
    "|   results II from the code of the paper                  | 1598     (18.56 )   | 1540  (318.67)     |"
   ]
  },
  {
   "attachments": {},
   "cell_type": "markdown",
   "metadata": {},
   "source": [
    "# The resutls with different parameters: "
   ]
  },
  {
   "cell_type": "markdown",
   "metadata": {},
   "source": []
  }
 ],
 "metadata": {
  "kernelspec": {
   "display_name": "sem6clone",
   "language": "python",
   "name": "python3"
  },
  "language_info": {
   "name": "python",
   "version": "3.6.15 | packaged by conda-forge | (default, Dec  3 2021, 18:49:41) \n[GCC 9.4.0]"
  },
  "orig_nbformat": 4,
  "vscode": {
   "interpreter": {
    "hash": "c512e3bd40a49028ee93bff3a3052edeb920d82bab43d5da25d50708932aa473"
   }
  }
 },
 "nbformat": 4,
 "nbformat_minor": 2
}
