{
 "cells": [
  {
   "cell_type": "code",
   "execution_count": 1,
   "metadata": {},
   "outputs": [
    {
     "name": "stderr",
     "output_type": "stream",
     "text": [
      "/home/botgod/anaconda3/envs/sem6clone/lib/python3.6/site-packages/h5py/__init__.py:36: FutureWarning: Conversion of the second argument of issubdtype from `float` to `np.floating` is deprecated. In future, it will be treated as `np.float64 == np.dtype(float).type`.\n",
      "  from ._conv import register_converters as _register_converters\n",
      "Using TensorFlow backend.\n"
     ]
    }
   ],
   "source": [
    "import config\n",
    "from feature_generator import FeatureGenerator\n",
    "\n",
    "import keras\n",
    "import pickle\n",
    "from datetime import datetime\n",
    "from model import net\n",
    "import os \n",
    "accuracy_values = list()\n",
    "accuracy_sum = 0.0\n",
    "accuracy_value = 0.0\n",
    "precision_values = list()\n",
    "precision_sum = 0.0\n",
    "precision_value = 0.0\n",
    "recall_values = list()\n",
    "recall_sum = 0.0\n",
    "recall_value = 0.0\n",
    "f1_values = list()\n",
    "f1_sum = 0.0\n",
    "f1_value = 0.0\n",
    "training_time_seconds = list()\n",
    "\n",
    "args = \"\"\n"
   ]
  },
  {
   "cell_type": "code",
   "execution_count": 2,
   "metadata": {},
   "outputs": [],
   "source": [
    "\n",
    "def load_model(checkpoint_dir, model_name):#, custom_objects):\n",
    "    \"\"\"load prediction model\n",
    "\n",
    "    Keyword arguments:\n",
    "    checkpoint_dir -- directory path\n",
    "    model_name -- decide which model to load\n",
    "    \"\"\"\n",
    "    model = net()\n",
    "    model.load(checkpoint_dir, model_name)#, custom_objects)\n",
    "    return model\n"
   ]
  },
  {
   "attachments": {},
   "cell_type": "markdown",
   "metadata": {},
   "source": [
    "# Test on BPIC17"
   ]
  },
  {
   "cell_type": "code",
   "execution_count": 3,
   "metadata": {},
   "outputs": [],
   "source": [
    "\n",
    "\n",
    "loss = 'mae'\n",
    "regression = True\n",
    "\n",
    "#dependencies = {'mse': 'mse', 'mae': 'mae'}\n",
    "\n",
    "# test the model*(real)\n",
    "checkpoint_dir = './checkpoints/'\n",
    "#modelname_next_act = 'modi_BPI_2012_dropna_filter_act.csv' + 'next_activity'\n",
    "modelname_next_time = 'modi_BPI_2012_dropna_filter_act.csv' + 'next_timestamp'\n",
    "\n",
    "# load prediction model\n",
    "#model_next_act = load_model(checkpoint_dir, modelname_next_act)\n",
    "model_next_time = load_model(checkpoint_dir, modelname_next_time)#, custom_objects=dependencies)\n",
    "contextual_info = True\n",
    "\n",
    "\n",
    "# (CHANGED)\n",
    "est_dir = './estimation/'\n",
    "estname_next_time = 'modi_BPI_2012_dropna_filter_act.csv' + 'next_timestamp'\n",
    "# load estimation model\n",
    "est_next_time = load_model(est_dir, estname_next_time)#, custom_objects=dependencies)\n"
   ]
  },
  {
   "cell_type": "code",
   "execution_count": 4,
   "metadata": {},
   "outputs": [
    {
     "name": "stdout",
     "output_type": "stream",
     "text": [
      "act_char_to_int: {'W-Afhandelen leads-START': 0, 'W-Beoordelen fraude-START': 1, 'W-Completeren aanvraag-START': 2, 'W-Nabellen incomplete dossiers-START': 3, 'W-Nabellen offertes-START': 4, 'W-Valideren aanvraag-START': 5, '!': 6}\n",
      "act_int_to_char: {0: 'W-Afhandelen leads-START', 1: 'W-Beoordelen fraude-START', 2: 'W-Completeren aanvraag-START', 3: 'W-Nabellen incomplete dossiers-START', 4: 'W-Nabellen offertes-START', 5: 'W-Valideren aanvraag-START', 6: '!'}\n",
      "res_char_to_int: {'10138': 0, '10188': 1, '10228': 2, '10609': 3, '10629': 4, '10789': 5, '10809': 6, '10861': 7, '10863': 8, '10881': 9, '10889': 10, '10899': 11, '10909': 12, '10910': 13, '10912': 14, '10913': 15, '10914': 16, '10929': 17, '10931': 18, '10932': 19, '10933': 20, '10935': 21, '10939': 22, '10972': 23, '10982': 24, '11000': 25, '11002': 26, '11003': 27, '11009': 28, '11019': 29, '11049': 30, '11119': 31, '11121': 32, '11122': 33, '11169': 34, '11179': 35, '11180': 36, '11181': 37, '11189': 38, '11201': 39, '11203': 40, '11259': 41, '11289': 42, '11299': 43, '11300': 44, '11302': 45, '11309': 46, '11319': 47}\n",
      "res_int_to_char: {0: 10138, 1: 10188, 2: 10228, 3: 10609, 4: 10629, 5: 10789, 6: 10809, 7: 10861, 8: 10863, 9: 10881, 10: 10889, 11: 10899, 12: 10909, 13: 10910, 14: 10912, 15: 10913, 16: 10914, 17: 10929, 18: 10931, 19: 10932, 20: 10933, 21: 10935, 22: 10939, 23: 10972, 24: 10982, 25: 11000, 26: 11002, 27: 11003, 28: 11009, 29: 11019, 30: 11049, 31: 11119, 32: 11121, 33: 11122, 34: 11169, 35: 11179, 36: 11180, 37: 11181, 38: 11189, 39: 11201, 40: 11203, 41: 11259, 42: 11289, 43: 11299, 44: 11300, 45: 11302, 46: 11309, 47: 11319}\n",
      "(127532, 20, 55) (127532, 7) (127532,)\n",
      "test_X shape: [[[0 0 0 ... 0 0 0]\n",
      "  [0 0 0 ... 0 0 0]\n",
      "  [0 0 0 ... 0 0 0]\n",
      "  ...\n",
      "  [0 0 0 ... 0 0 0]\n",
      "  [0 0 0 ... 0 0 0]\n",
      "  [0 0 0 ... 0 0 0]]\n",
      "\n",
      " [[0 0 0 ... 0 0 0]\n",
      "  [0 0 0 ... 0 0 0]\n",
      "  [0 0 0 ... 0 0 0]\n",
      "  ...\n",
      "  [0 0 0 ... 0 0 0]\n",
      "  [0 0 0 ... 0 0 0]\n",
      "  [0 0 1 ... 0 0 0]]\n",
      "\n",
      " [[0 0 0 ... 0 0 0]\n",
      "  [0 0 0 ... 0 0 0]\n",
      "  [0 0 0 ... 0 0 0]\n",
      "  ...\n",
      "  [0 0 0 ... 0 0 0]\n",
      "  [0 0 1 ... 0 0 0]\n",
      "  [1 0 0 ... 0 0 0]]\n",
      "\n",
      " ...\n",
      "\n",
      " [[0 0 0 ... 0 0 0]\n",
      "  [0 0 0 ... 0 0 0]\n",
      "  [0 0 0 ... 0 0 0]\n",
      "  ...\n",
      "  [1 0 0 ... 0 0 0]\n",
      "  [0 0 0 ... 0 0 0]\n",
      "  [0 0 0 ... 0 0 0]]\n",
      "\n",
      " [[0 0 0 ... 0 0 0]\n",
      "  [0 0 0 ... 0 0 0]\n",
      "  [0 0 0 ... 0 0 0]\n",
      "  ...\n",
      "  [0 0 0 ... 0 0 0]\n",
      "  [0 0 0 ... 0 0 0]\n",
      "  [0 0 0 ... 0 0 0]]\n",
      "\n",
      " [[0 0 0 ... 0 0 0]\n",
      "  [0 0 0 ... 0 0 0]\n",
      "  [0 0 0 ... 0 0 0]\n",
      "  ...\n",
      "  [0 0 0 ... 0 0 1]\n",
      "  [0 0 0 ... 0 0 0]\n",
      "  [0 0 0 ... 0 0 0]]]\n",
      "test_Y_Time shape: (127532,)\n",
      "test_Y_Event shape: (127532, 7)\n"
     ]
    }
   ],
   "source": [
    "\n",
    "# load the data \n",
    "\n",
    "project_root = os.path.abspath(os.path.join(os.getcwd(), '..'))\n",
    "\n",
    "filename = os.path.join(project_root, \"sample_data/real_Dilyar/\", \"modi_assignment_filtered_test.csv\" ) \n",
    "model_name = \"modi_assignment_filtered_test.csv\" + \"next_timestamp\"\n",
    "\n",
    "# load data\n",
    "FG = FeatureGenerator()\n",
    "df = FG.create_initial_log(filename)\n",
    "\n",
    "test_df = df\n",
    "test_df = FG.order_csv_time(test_df)\n",
    "test_df = FG.queue_level(test_df)\n",
    "test_df.to_csv('./test_data2.csv')\n",
    "state_list = FG.get_states(test_df)\n",
    "test_X, test_Y_Event, test_Y_Time = FG.one_hot_encode_history(test_df, \"./estimation/\"+\"modi_BPI_2012_dropna_filter_act.csv\")\n",
    "print('test_X shape:', test_X)\n",
    "print('test_Y_Time shape:', test_Y_Time.shape)\n",
    "print('test_Y_Event shape:', test_Y_Event.shape)\n"
   ]
  },
  {
   "cell_type": "code",
   "execution_count": null,
   "metadata": {},
   "outputs": [],
   "source": []
  },
  {
   "attachments": {},
   "cell_type": "markdown",
   "metadata": {},
   "source": [
    "#### Evaluation of RTM: "
   ]
  },
  {
   "cell_type": "code",
   "execution_count": 5,
   "metadata": {},
   "outputs": [
    {
     "name": "stdout",
     "output_type": "stream",
     "text": [
      "train_context_X shape: (127532, 6)\n",
      "127532/127532 [==============================] - 15s 120us/step\n",
      "[765.7771437167598, 0.005622118370291378, 16993828.80222154, 765.7771437167598]\n",
      "Test loss: [765.7771437167598, 0.005622118370291378, 16993828.80222154, 765.7771437167598]\n"
     ]
    }
   ],
   "source": [
    "\n",
    "if contextual_info:\n",
    "    test_context_X = FG.generate_context_feature(test_df,state_list)\n",
    "    print('train_context_X shape:', test_context_X.shape)\n",
    "    if regression:\n",
    "            \n",
    "        scores = model_next_time.evaluate(test_X, test_context_X, test_Y_Time, loss, regression)\n",
    "        print('Test loss:', scores)"
   ]
  },
  {
   "attachments": {},
   "cell_type": "markdown",
   "metadata": {},
   "source": [
    "### Evaluating the activity predictiom model:"
   ]
  },
  {
   "cell_type": "code",
   "execution_count": 6,
   "metadata": {},
   "outputs": [],
   "source": [
    "loss = 'categorical_crossentropy'\n",
    "regression = False\n",
    "modelname_next_act = 'modi_BPI_2012_dropna_filter_act.csv' + 'next_activity'\n",
    "model_next_act = load_model(checkpoint_dir, modelname_next_act)\n"
   ]
  },
  {
   "cell_type": "code",
   "execution_count": 7,
   "metadata": {},
   "outputs": [
    {
     "name": "stdout",
     "output_type": "stream",
     "text": [
      "train_context_X shape: (127532, 6)\n",
      "127532/127532 [==============================] - 16s 123us/step\n",
      "[5.133560740240686, 0.15468274629159431, 5.133560740240686]\n",
      "Test loss: [5.133560740240686, 0.15468274629159431, 5.133560740240686]\n"
     ]
    }
   ],
   "source": [
    "if contextual_info:\n",
    "    test_context_X = FG.generate_context_feature(test_df,state_list)\n",
    "    print('train_context_X shape:', test_context_X.shape)\n",
    "    scores = model_next_act.evaluate(test_X, test_context_X, test_Y_Event, loss, regression)\n",
    "    print('Test loss:', scores)"
   ]
  },
  {
   "attachments": {},
   "cell_type": "markdown",
   "metadata": {},
   "source": [
    "# Test on BPIC12\n"
   ]
  },
  {
   "cell_type": "code",
   "execution_count": 9,
   "metadata": {},
   "outputs": [
    {
     "name": "stdout",
     "output_type": "stream",
     "text": [
      "act_char_to_int: {'W-Afhandelen leads-START': 0, 'W-Beoordelen fraude-START': 1, 'W-Completeren aanvraag-START': 2, 'W-Nabellen incomplete dossiers-START': 3, 'W-Nabellen offertes-START': 4, 'W-Valideren aanvraag-START': 5, '!': 6}\n",
      "act_int_to_char: {0: 'W-Afhandelen leads-START', 1: 'W-Beoordelen fraude-START', 2: 'W-Completeren aanvraag-START', 3: 'W-Nabellen incomplete dossiers-START', 4: 'W-Nabellen offertes-START', 5: 'W-Valideren aanvraag-START', 6: '!'}\n",
      "res_char_to_int: {'10138': 0, '10188': 1, '10228': 2, '10609': 3, '10629': 4, '10789': 5, '10809': 6, '10861': 7, '10863': 8, '10881': 9, '10889': 10, '10899': 11, '10909': 12, '10910': 13, '10912': 14, '10913': 15, '10914': 16, '10929': 17, '10931': 18, '10932': 19, '10933': 20, '10935': 21, '10939': 22, '10972': 23, '10982': 24, '11000': 25, '11002': 26, '11003': 27, '11009': 28, '11019': 29, '11049': 30, '11119': 31, '11121': 32, '11122': 33, '11169': 34, '11179': 35, '11180': 36, '11181': 37, '11189': 38, '11201': 39, '11203': 40, '11259': 41, '11289': 42, '11299': 43, '11300': 44, '11302': 45, '11309': 46, '11319': 47}\n",
      "res_int_to_char: {0: 10138, 1: 10188, 2: 10228, 3: 10609, 4: 10629, 5: 10789, 6: 10809, 7: 10861, 8: 10863, 9: 10881, 10: 10889, 11: 10899, 12: 10909, 13: 10910, 14: 10912, 15: 10913, 16: 10914, 17: 10929, 18: 10931, 19: 10932, 20: 10933, 21: 10935, 22: 10939, 23: 10972, 24: 10982, 25: 11000, 26: 11002, 27: 11003, 28: 11009, 29: 11019, 30: 11049, 31: 11119, 32: 11121, 33: 11122, 34: 11169, 35: 11179, 36: 11180, 37: 11181, 38: 11189, 39: 11201, 40: 11203, 41: 11259, 42: 11289, 43: 11299, 44: 11300, 45: 11302, 46: 11309, 47: 11319}\n",
      "(52831, 20, 55) (52831, 7) (52831,)\n",
      "test_X shape: (52831, 20, 55)\n",
      "test_Y_Time shape: (52831,)\n",
      "test_Y_Event shape: (52831, 7)\n"
     ]
    }
   ],
   "source": [
    "\n",
    "\n",
    "loss = 'mae'\n",
    "regression = True\n",
    "\n",
    "# test the model*(real)\n",
    "checkpoint_dir = './checkpoints/'\n",
    "#modelname_next_act = 'modi_BPI_2012_dropna_filter_act.csv' + 'next_activity'\n",
    "modelname_next_time = 'modi_BPI_2012_dropna_filter_act.csv' + 'next_timestamp'\n",
    "\n",
    "# load prediction model\n",
    "#model_next_act = load_model(checkpoint_dir, modelname_next_act)\n",
    "model_next_time = load_model(checkpoint_dir, modelname_next_time)\n",
    "contextual_info = True\n",
    "\n",
    "\n",
    "# (CHANGED)\n",
    "est_dir = './estimation/'\n",
    "estname_next_time = 'modi_BPI_2012_dropna_filter_act.csv' + 'next_timestamp'\n",
    "# load estimation model\n",
    "est_next_time = load_model(est_dir, estname_next_time)\n",
    "\n",
    "# load the data \n",
    "\n",
    "project_root = os.path.abspath(os.path.join(os.getcwd(), '..'))\n",
    "\n",
    "filename = os.path.join(project_root, \"sample_data/real/\", \"modi_BPI_2012_dropna_filter_act.csv\" ) \n",
    "\n",
    "# load data\n",
    "FG = FeatureGenerator()\n",
    "df = FG.create_initial_log(filename)\n",
    "\n",
    "test_df = df\n",
    "test_df = FG.order_csv_time(test_df)\n",
    "test_df = FG.queue_level(test_df)\n",
    "#test_df.to_csv('./test_data2.csv')\n",
    "state_list = FG.get_states(test_df)\n",
    "test_X, test_Y_Event, test_Y_Time = FG.one_hot_encode_history(test_df, checkpoint_dir+\"modi_BPI_2012_dropna_filter_act.csv\")\n",
    "print('test_X shape:', test_X.shape)\n",
    "print('test_Y_Time shape:', test_Y_Time.shape)\n",
    "print('test_Y_Event shape:', test_Y_Event.shape)\n"
   ]
  },
  {
   "attachments": {},
   "cell_type": "markdown",
   "metadata": {},
   "source": [
    "### Evaluation of RTM "
   ]
  },
  {
   "cell_type": "code",
   "execution_count": 10,
   "metadata": {},
   "outputs": [
    {
     "name": "stdout",
     "output_type": "stream",
     "text": [
      "train_context_X shape: (52831, 6)\n",
      "52831/52831 [==============================] - 7s 129us/step\n",
      "[11.18829912068082, 0.1542276314991535, 13829.843707765609, 11.18829912068082]\n",
      "Test loss: [11.18829912068082, 0.1542276314991535, 13829.843707765609, 11.18829912068082]\n"
     ]
    }
   ],
   "source": [
    "if contextual_info:\n",
    "    test_context_X = FG.generate_context_feature(test_df,state_list)\n",
    "    print('train_context_X shape:', test_context_X.shape)\n",
    "    if regression:\n",
    "            \n",
    "        scores = model_next_time.evaluate(test_X, test_context_X, test_Y_Time, loss, regression)\n",
    "        print('Test loss:', scores)"
   ]
  },
  {
   "attachments": {},
   "cell_type": "markdown",
   "metadata": {},
   "source": [
    "### Evaluation of activity prediction model"
   ]
  },
  {
   "cell_type": "code",
   "execution_count": 13,
   "metadata": {},
   "outputs": [],
   "source": [
    "loss = 'categorical_crossentropy'\n",
    "regression = False\n",
    "modelname_next_act = 'modi_BPI_2012_dropna_filter_act.csv' + 'next_activity'\n",
    "model_next_act = load_model(checkpoint_dir, modelname_next_act)"
   ]
  },
  {
   "cell_type": "code",
   "execution_count": 14,
   "metadata": {},
   "outputs": [
    {
     "name": "stdout",
     "output_type": "stream",
     "text": [
      "train_context_X shape: (52831, 6)\n",
      "52831/52831 [==============================] - 7s 132us/step\n",
      "[0.7272079182145895, 0.6984157028977567, 0.7272079182145895]\n",
      "Test loss: [0.7272079182145895, 0.6984157028977567, 0.7272079182145895]\n"
     ]
    }
   ],
   "source": [
    "if contextual_info:\n",
    "    test_context_X = FG.generate_context_feature(test_df,state_list)\n",
    "    print('train_context_X shape:', test_context_X.shape)\n",
    "    scores = model_next_act.evaluate(test_X, test_context_X, test_Y_Event, loss, regression)\n",
    "    print('Test loss:', scores)"
   ]
  },
  {
   "cell_type": "code",
   "execution_count": null,
   "metadata": {},
   "outputs": [],
   "source": []
  }
 ],
 "metadata": {
  "kernelspec": {
   "display_name": "sem6clone",
   "language": "python",
   "name": "python3"
  },
  "language_info": {
   "codemirror_mode": {
    "name": "ipython",
    "version": 3
   },
   "file_extension": ".py",
   "mimetype": "text/x-python",
   "name": "python",
   "nbconvert_exporter": "python",
   "pygments_lexer": "ipython3",
   "version": "3.6.15"
  },
  "orig_nbformat": 4,
  "vscode": {
   "interpreter": {
    "hash": "c512e3bd40a49028ee93bff3a3052edeb920d82bab43d5da25d50708932aa473"
   }
  }
 },
 "nbformat": 4,
 "nbformat_minor": 2
}
